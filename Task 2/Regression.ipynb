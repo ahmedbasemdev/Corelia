{
 "cells": [
  {
   "cell_type": "code",
   "execution_count": 1,
   "id": "6e163e85",
   "metadata": {},
   "outputs": [],
   "source": [
    "import pandas as pd\n",
    "import numpy as np\n",
    "import matplotlib.pyplot as plt\n",
    "import seaborn\n",
    "from sklearn.preprocessing import LabelEncoder"
   ]
  },
  {
   "cell_type": "code",
   "execution_count": 2,
   "id": "d3e5f77f",
   "metadata": {},
   "outputs": [
    {
     "name": "stdout",
     "output_type": "stream",
     "text": [
      " Volume in drive C is OS\n",
      " Volume Serial Number is A09C-8A30\n",
      "\n",
      " Directory of C:\\Users\\Ahmed-Basem\\Desktop\\Current\\Corelia\\Task Two\n",
      "\n",
      "05/03/2023  05:23 PM    <DIR>          .\n",
      "05/03/2023  05:23 PM    <DIR>          ..\n",
      "05/03/2023  05:23 PM    <DIR>          .ipynb_checkpoints\n",
      "03/01/2021  06:50 AM           530,389 Data_Train.xlsx\n",
      "05/02/2023  09:53 PM         7,803,486 Regression.ipynb\n",
      "02/15/2020  09:10 AM           120,774 Test_set.xlsx\n",
      "               3 File(s)      8,454,649 bytes\n",
      "               3 Dir(s)  25,922,035,712 bytes free\n"
     ]
    }
   ],
   "source": [
    "ls"
   ]
  },
  {
   "cell_type": "code",
   "execution_count": 3,
   "id": "dc37d664",
   "metadata": {},
   "outputs": [
    {
     "data": {
      "text/html": [
       "<div>\n",
       "<style scoped>\n",
       "    .dataframe tbody tr th:only-of-type {\n",
       "        vertical-align: middle;\n",
       "    }\n",
       "\n",
       "    .dataframe tbody tr th {\n",
       "        vertical-align: top;\n",
       "    }\n",
       "\n",
       "    .dataframe thead th {\n",
       "        text-align: right;\n",
       "    }\n",
       "</style>\n",
       "<table border=\"1\" class=\"dataframe\">\n",
       "  <thead>\n",
       "    <tr style=\"text-align: right;\">\n",
       "      <th></th>\n",
       "      <th>Airline</th>\n",
       "      <th>Date_of_Journey</th>\n",
       "      <th>Source</th>\n",
       "      <th>Destination</th>\n",
       "      <th>Route</th>\n",
       "      <th>Dep_Time</th>\n",
       "      <th>Arrival_Time</th>\n",
       "      <th>Duration</th>\n",
       "      <th>Total_Stops</th>\n",
       "      <th>Additional_Info</th>\n",
       "      <th>Price</th>\n",
       "    </tr>\n",
       "  </thead>\n",
       "  <tbody>\n",
       "    <tr>\n",
       "      <th>0</th>\n",
       "      <td>IndiGo</td>\n",
       "      <td>24/03/2019</td>\n",
       "      <td>Banglore</td>\n",
       "      <td>New Delhi</td>\n",
       "      <td>BLR → DEL</td>\n",
       "      <td>22:20</td>\n",
       "      <td>01:10 22 Mar</td>\n",
       "      <td>2h 50m</td>\n",
       "      <td>non-stop</td>\n",
       "      <td>No info</td>\n",
       "      <td>3897</td>\n",
       "    </tr>\n",
       "    <tr>\n",
       "      <th>1</th>\n",
       "      <td>Air India</td>\n",
       "      <td>1/05/2019</td>\n",
       "      <td>Kolkata</td>\n",
       "      <td>Banglore</td>\n",
       "      <td>CCU → IXR → BBI → BLR</td>\n",
       "      <td>05:50</td>\n",
       "      <td>13:15</td>\n",
       "      <td>7h 25m</td>\n",
       "      <td>2 stops</td>\n",
       "      <td>No info</td>\n",
       "      <td>7662</td>\n",
       "    </tr>\n",
       "    <tr>\n",
       "      <th>2</th>\n",
       "      <td>Jet Airways</td>\n",
       "      <td>9/06/2019</td>\n",
       "      <td>Delhi</td>\n",
       "      <td>Cochin</td>\n",
       "      <td>DEL → LKO → BOM → COK</td>\n",
       "      <td>09:25</td>\n",
       "      <td>04:25 10 Jun</td>\n",
       "      <td>19h</td>\n",
       "      <td>2 stops</td>\n",
       "      <td>No info</td>\n",
       "      <td>13882</td>\n",
       "    </tr>\n",
       "    <tr>\n",
       "      <th>3</th>\n",
       "      <td>IndiGo</td>\n",
       "      <td>12/05/2019</td>\n",
       "      <td>Kolkata</td>\n",
       "      <td>Banglore</td>\n",
       "      <td>CCU → NAG → BLR</td>\n",
       "      <td>18:05</td>\n",
       "      <td>23:30</td>\n",
       "      <td>5h 25m</td>\n",
       "      <td>1 stop</td>\n",
       "      <td>No info</td>\n",
       "      <td>6218</td>\n",
       "    </tr>\n",
       "    <tr>\n",
       "      <th>4</th>\n",
       "      <td>IndiGo</td>\n",
       "      <td>01/03/2019</td>\n",
       "      <td>Banglore</td>\n",
       "      <td>New Delhi</td>\n",
       "      <td>BLR → NAG → DEL</td>\n",
       "      <td>16:50</td>\n",
       "      <td>21:35</td>\n",
       "      <td>4h 45m</td>\n",
       "      <td>1 stop</td>\n",
       "      <td>No info</td>\n",
       "      <td>13302</td>\n",
       "    </tr>\n",
       "  </tbody>\n",
       "</table>\n",
       "</div>"
      ],
      "text/plain": [
       "       Airline Date_of_Journey    Source Destination                  Route  \\\n",
       "0       IndiGo      24/03/2019  Banglore   New Delhi              BLR → DEL   \n",
       "1    Air India       1/05/2019   Kolkata    Banglore  CCU → IXR → BBI → BLR   \n",
       "2  Jet Airways       9/06/2019     Delhi      Cochin  DEL → LKO → BOM → COK   \n",
       "3       IndiGo      12/05/2019   Kolkata    Banglore        CCU → NAG → BLR   \n",
       "4       IndiGo      01/03/2019  Banglore   New Delhi        BLR → NAG → DEL   \n",
       "\n",
       "  Dep_Time  Arrival_Time Duration Total_Stops Additional_Info  Price  \n",
       "0    22:20  01:10 22 Mar   2h 50m    non-stop         No info   3897  \n",
       "1    05:50         13:15   7h 25m     2 stops         No info   7662  \n",
       "2    09:25  04:25 10 Jun      19h     2 stops         No info  13882  \n",
       "3    18:05         23:30   5h 25m      1 stop         No info   6218  \n",
       "4    16:50         21:35   4h 45m      1 stop         No info  13302  "
      ]
     },
     "execution_count": 3,
     "metadata": {},
     "output_type": "execute_result"
    }
   ],
   "source": [
    "data = pd.read_excel('Data_Train.xlsx')\n",
    "data.head()"
   ]
  },
  {
   "cell_type": "markdown",
   "id": "03894dd7",
   "metadata": {},
   "source": [
    "### Get insights about the dataset"
   ]
  },
  {
   "cell_type": "code",
   "execution_count": 4,
   "id": "49c49658",
   "metadata": {},
   "outputs": [
    {
     "name": "stdout",
     "output_type": "stream",
     "text": [
      "There are 10683 Rows and 11 Columns in our dataset\n"
     ]
    }
   ],
   "source": [
    "print(f\"There are {data.shape[0]} Rows and {data.shape[1]} Columns in our dataset\")"
   ]
  },
  {
   "cell_type": "code",
   "execution_count": 5,
   "id": "974c4732",
   "metadata": {},
   "outputs": [
    {
     "name": "stdout",
     "output_type": "stream",
     "text": [
      "<class 'pandas.core.frame.DataFrame'>\n",
      "RangeIndex: 10683 entries, 0 to 10682\n",
      "Data columns (total 11 columns):\n",
      " #   Column           Non-Null Count  Dtype \n",
      "---  ------           --------------  ----- \n",
      " 0   Airline          10683 non-null  object\n",
      " 1   Date_of_Journey  10683 non-null  object\n",
      " 2   Source           10683 non-null  object\n",
      " 3   Destination      10683 non-null  object\n",
      " 4   Route            10682 non-null  object\n",
      " 5   Dep_Time         10683 non-null  object\n",
      " 6   Arrival_Time     10683 non-null  object\n",
      " 7   Duration         10683 non-null  object\n",
      " 8   Total_Stops      10682 non-null  object\n",
      " 9   Additional_Info  10683 non-null  object\n",
      " 10  Price            10683 non-null  int64 \n",
      "dtypes: int64(1), object(10)\n",
      "memory usage: 918.2+ KB\n"
     ]
    }
   ],
   "source": [
    "data.info()"
   ]
  },
  {
   "cell_type": "code",
   "execution_count": 6,
   "id": "6593c355",
   "metadata": {},
   "outputs": [
    {
     "data": {
      "text/plain": [
       "Airline            0\n",
       "Date_of_Journey    0\n",
       "Source             0\n",
       "Destination        0\n",
       "Route              1\n",
       "Dep_Time           0\n",
       "Arrival_Time       0\n",
       "Duration           0\n",
       "Total_Stops        1\n",
       "Additional_Info    0\n",
       "Price              0\n",
       "dtype: int64"
      ]
     },
     "execution_count": 6,
     "metadata": {},
     "output_type": "execute_result"
    }
   ],
   "source": [
    "# get the count of null values in every column in our dataset\n",
    "data.isnull().sum()"
   ]
  },
  {
   "cell_type": "code",
   "execution_count": 7,
   "id": "701b6938",
   "metadata": {},
   "outputs": [],
   "source": [
    "data = data.dropna()"
   ]
  },
  {
   "cell_type": "code",
   "execution_count": 8,
   "id": "008703d9",
   "metadata": {},
   "outputs": [
    {
     "data": {
      "text/plain": [
       "Airline            0\n",
       "Date_of_Journey    0\n",
       "Source             0\n",
       "Destination        0\n",
       "Route              0\n",
       "Dep_Time           0\n",
       "Arrival_Time       0\n",
       "Duration           0\n",
       "Total_Stops        0\n",
       "Additional_Info    0\n",
       "Price              0\n",
       "dtype: int64"
      ]
     },
     "execution_count": 8,
     "metadata": {},
     "output_type": "execute_result"
    }
   ],
   "source": [
    "data.isnull().sum()"
   ]
  },
  {
   "cell_type": "code",
   "execution_count": 9,
   "id": "39abb056",
   "metadata": {},
   "outputs": [],
   "source": [
    "def get_insights(column):\n",
    "    print(f\"Columns in {column}\")\n",
    "    print(\"most appeared values\")\n",
    "    print(data[column].value_counts().index[:5])\n",
    "    print(f\"Number of unique values is {data[column].nunique()}\")\n",
    "    print('\\n #### Random Values ####')\n",
    "    print(data.sample(5)[column].values)"
   ]
  },
  {
   "cell_type": "code",
   "execution_count": 10,
   "id": "abfd3b04",
   "metadata": {},
   "outputs": [
    {
     "name": "stdout",
     "output_type": "stream",
     "text": [
      "Columns in Airline\n",
      "most appeared values\n",
      "Index(['Jet Airways', 'IndiGo', 'Air India', 'Multiple carriers', 'SpiceJet'], dtype='object')\n",
      "Number of unique values is 12\n",
      "\n",
      " #### Random Values ####\n",
      "['IndiGo' 'Vistara' 'IndiGo' 'Jet Airways' 'SpiceJet']\n"
     ]
    }
   ],
   "source": [
    "get_insights('Airline')"
   ]
  },
  {
   "cell_type": "code",
   "execution_count": 11,
   "id": "c92f97d6",
   "metadata": {},
   "outputs": [
    {
     "data": {
      "text/html": [
       "<div>\n",
       "<style scoped>\n",
       "    .dataframe tbody tr th:only-of-type {\n",
       "        vertical-align: middle;\n",
       "    }\n",
       "\n",
       "    .dataframe tbody tr th {\n",
       "        vertical-align: top;\n",
       "    }\n",
       "\n",
       "    .dataframe thead th {\n",
       "        text-align: right;\n",
       "    }\n",
       "</style>\n",
       "<table border=\"1\" class=\"dataframe\">\n",
       "  <thead>\n",
       "    <tr style=\"text-align: right;\">\n",
       "      <th></th>\n",
       "      <th>Price</th>\n",
       "    </tr>\n",
       "    <tr>\n",
       "      <th>Airline</th>\n",
       "      <th></th>\n",
       "    </tr>\n",
       "  </thead>\n",
       "  <tbody>\n",
       "    <tr>\n",
       "      <th>Air Asia</th>\n",
       "      <td>5590.260188</td>\n",
       "    </tr>\n",
       "    <tr>\n",
       "      <th>Air India</th>\n",
       "      <td>9612.427756</td>\n",
       "    </tr>\n",
       "    <tr>\n",
       "      <th>GoAir</th>\n",
       "      <td>5861.056701</td>\n",
       "    </tr>\n",
       "    <tr>\n",
       "      <th>IndiGo</th>\n",
       "      <td>5673.682903</td>\n",
       "    </tr>\n",
       "    <tr>\n",
       "      <th>Jet Airways</th>\n",
       "      <td>11643.923357</td>\n",
       "    </tr>\n",
       "    <tr>\n",
       "      <th>Jet Airways Business</th>\n",
       "      <td>58358.666667</td>\n",
       "    </tr>\n",
       "    <tr>\n",
       "      <th>Multiple carriers</th>\n",
       "      <td>10902.678094</td>\n",
       "    </tr>\n",
       "    <tr>\n",
       "      <th>Multiple carriers Premium economy</th>\n",
       "      <td>11418.846154</td>\n",
       "    </tr>\n",
       "    <tr>\n",
       "      <th>SpiceJet</th>\n",
       "      <td>4338.284841</td>\n",
       "    </tr>\n",
       "    <tr>\n",
       "      <th>Trujet</th>\n",
       "      <td>4140.000000</td>\n",
       "    </tr>\n",
       "    <tr>\n",
       "      <th>Vistara</th>\n",
       "      <td>7796.348643</td>\n",
       "    </tr>\n",
       "    <tr>\n",
       "      <th>Vistara Premium economy</th>\n",
       "      <td>8962.333333</td>\n",
       "    </tr>\n",
       "  </tbody>\n",
       "</table>\n",
       "</div>"
      ],
      "text/plain": [
       "                                          Price\n",
       "Airline                                        \n",
       "Air Asia                            5590.260188\n",
       "Air India                           9612.427756\n",
       "GoAir                               5861.056701\n",
       "IndiGo                              5673.682903\n",
       "Jet Airways                        11643.923357\n",
       "Jet Airways Business               58358.666667\n",
       "Multiple carriers                  10902.678094\n",
       "Multiple carriers Premium economy  11418.846154\n",
       "SpiceJet                            4338.284841\n",
       "Trujet                              4140.000000\n",
       "Vistara                             7796.348643\n",
       "Vistara Premium economy             8962.333333"
      ]
     },
     "execution_count": 11,
     "metadata": {},
     "output_type": "execute_result"
    }
   ],
   "source": [
    "data.groupby('Airline').mean()"
   ]
  },
  {
   "cell_type": "code",
   "execution_count": 12,
   "id": "1bca8b7a",
   "metadata": {},
   "outputs": [
    {
     "name": "stdout",
     "output_type": "stream",
     "text": [
      "Columns in Date_of_Journey\n",
      "most appeared values\n",
      "Index(['18/05/2019', '6/06/2019', '21/05/2019', '9/06/2019', '12/06/2019'], dtype='object')\n",
      "Number of unique values is 44\n",
      "\n",
      " #### Random Values ####\n",
      "['21/05/2019' '1/06/2019' '9/04/2019' '6/05/2019' '9/04/2019']\n"
     ]
    }
   ],
   "source": [
    "get_insights('Date_of_Journey')"
   ]
  },
  {
   "cell_type": "code",
   "execution_count": 13,
   "id": "923b79f1",
   "metadata": {},
   "outputs": [],
   "source": [
    "data['day'] = data['Date_of_Journey'].apply(lambda x:int(x.split('/')[0]))\n",
    "data['month'] = data['Date_of_Journey'].apply(lambda x:int(x.split('/')[1]))\n",
    "data['year'] = data['Date_of_Journey'].apply(lambda x:int(x.split('/')[2]))\n",
    "data = data.drop('Date_of_Journey',axis=1)"
   ]
  },
  {
   "cell_type": "code",
   "execution_count": 14,
   "id": "0e3c78fb",
   "metadata": {},
   "outputs": [
    {
     "data": {
      "text/html": [
       "<div>\n",
       "<style scoped>\n",
       "    .dataframe tbody tr th:only-of-type {\n",
       "        vertical-align: middle;\n",
       "    }\n",
       "\n",
       "    .dataframe tbody tr th {\n",
       "        vertical-align: top;\n",
       "    }\n",
       "\n",
       "    .dataframe thead th {\n",
       "        text-align: right;\n",
       "    }\n",
       "</style>\n",
       "<table border=\"1\" class=\"dataframe\">\n",
       "  <thead>\n",
       "    <tr style=\"text-align: right;\">\n",
       "      <th></th>\n",
       "      <th>Airline</th>\n",
       "      <th>Source</th>\n",
       "      <th>Destination</th>\n",
       "      <th>Route</th>\n",
       "      <th>Dep_Time</th>\n",
       "      <th>Arrival_Time</th>\n",
       "      <th>Duration</th>\n",
       "      <th>Total_Stops</th>\n",
       "      <th>Additional_Info</th>\n",
       "      <th>Price</th>\n",
       "      <th>day</th>\n",
       "      <th>month</th>\n",
       "      <th>year</th>\n",
       "    </tr>\n",
       "  </thead>\n",
       "  <tbody>\n",
       "    <tr>\n",
       "      <th>0</th>\n",
       "      <td>IndiGo</td>\n",
       "      <td>Banglore</td>\n",
       "      <td>New Delhi</td>\n",
       "      <td>BLR → DEL</td>\n",
       "      <td>22:20</td>\n",
       "      <td>01:10 22 Mar</td>\n",
       "      <td>2h 50m</td>\n",
       "      <td>non-stop</td>\n",
       "      <td>No info</td>\n",
       "      <td>3897</td>\n",
       "      <td>24</td>\n",
       "      <td>3</td>\n",
       "      <td>2019</td>\n",
       "    </tr>\n",
       "    <tr>\n",
       "      <th>1</th>\n",
       "      <td>Air India</td>\n",
       "      <td>Kolkata</td>\n",
       "      <td>Banglore</td>\n",
       "      <td>CCU → IXR → BBI → BLR</td>\n",
       "      <td>05:50</td>\n",
       "      <td>13:15</td>\n",
       "      <td>7h 25m</td>\n",
       "      <td>2 stops</td>\n",
       "      <td>No info</td>\n",
       "      <td>7662</td>\n",
       "      <td>1</td>\n",
       "      <td>5</td>\n",
       "      <td>2019</td>\n",
       "    </tr>\n",
       "    <tr>\n",
       "      <th>2</th>\n",
       "      <td>Jet Airways</td>\n",
       "      <td>Delhi</td>\n",
       "      <td>Cochin</td>\n",
       "      <td>DEL → LKO → BOM → COK</td>\n",
       "      <td>09:25</td>\n",
       "      <td>04:25 10 Jun</td>\n",
       "      <td>19h</td>\n",
       "      <td>2 stops</td>\n",
       "      <td>No info</td>\n",
       "      <td>13882</td>\n",
       "      <td>9</td>\n",
       "      <td>6</td>\n",
       "      <td>2019</td>\n",
       "    </tr>\n",
       "    <tr>\n",
       "      <th>3</th>\n",
       "      <td>IndiGo</td>\n",
       "      <td>Kolkata</td>\n",
       "      <td>Banglore</td>\n",
       "      <td>CCU → NAG → BLR</td>\n",
       "      <td>18:05</td>\n",
       "      <td>23:30</td>\n",
       "      <td>5h 25m</td>\n",
       "      <td>1 stop</td>\n",
       "      <td>No info</td>\n",
       "      <td>6218</td>\n",
       "      <td>12</td>\n",
       "      <td>5</td>\n",
       "      <td>2019</td>\n",
       "    </tr>\n",
       "    <tr>\n",
       "      <th>4</th>\n",
       "      <td>IndiGo</td>\n",
       "      <td>Banglore</td>\n",
       "      <td>New Delhi</td>\n",
       "      <td>BLR → NAG → DEL</td>\n",
       "      <td>16:50</td>\n",
       "      <td>21:35</td>\n",
       "      <td>4h 45m</td>\n",
       "      <td>1 stop</td>\n",
       "      <td>No info</td>\n",
       "      <td>13302</td>\n",
       "      <td>1</td>\n",
       "      <td>3</td>\n",
       "      <td>2019</td>\n",
       "    </tr>\n",
       "  </tbody>\n",
       "</table>\n",
       "</div>"
      ],
      "text/plain": [
       "       Airline    Source Destination                  Route Dep_Time  \\\n",
       "0       IndiGo  Banglore   New Delhi              BLR → DEL    22:20   \n",
       "1    Air India   Kolkata    Banglore  CCU → IXR → BBI → BLR    05:50   \n",
       "2  Jet Airways     Delhi      Cochin  DEL → LKO → BOM → COK    09:25   \n",
       "3       IndiGo   Kolkata    Banglore        CCU → NAG → BLR    18:05   \n",
       "4       IndiGo  Banglore   New Delhi        BLR → NAG → DEL    16:50   \n",
       "\n",
       "   Arrival_Time Duration Total_Stops Additional_Info  Price  day  month  year  \n",
       "0  01:10 22 Mar   2h 50m    non-stop         No info   3897   24      3  2019  \n",
       "1         13:15   7h 25m     2 stops         No info   7662    1      5  2019  \n",
       "2  04:25 10 Jun      19h     2 stops         No info  13882    9      6  2019  \n",
       "3         23:30   5h 25m      1 stop         No info   6218   12      5  2019  \n",
       "4         21:35   4h 45m      1 stop         No info  13302    1      3  2019  "
      ]
     },
     "execution_count": 14,
     "metadata": {},
     "output_type": "execute_result"
    }
   ],
   "source": [
    "data.head()"
   ]
  },
  {
   "cell_type": "code",
   "execution_count": 15,
   "id": "c661c72d",
   "metadata": {},
   "outputs": [
    {
     "name": "stdout",
     "output_type": "stream",
     "text": [
      "Columns in Source\n",
      "most appeared values\n",
      "Index(['Delhi', 'Kolkata', 'Banglore', 'Mumbai', 'Chennai'], dtype='object')\n",
      "Number of unique values is 5\n",
      "\n",
      " #### Random Values ####\n",
      "['Delhi' 'Delhi' 'Delhi' 'Banglore' 'Mumbai']\n"
     ]
    }
   ],
   "source": [
    "get_insights('Source')"
   ]
  },
  {
   "cell_type": "code",
   "execution_count": 16,
   "id": "67a98f84",
   "metadata": {},
   "outputs": [
    {
     "data": {
      "text/html": [
       "<div>\n",
       "<style scoped>\n",
       "    .dataframe tbody tr th:only-of-type {\n",
       "        vertical-align: middle;\n",
       "    }\n",
       "\n",
       "    .dataframe tbody tr th {\n",
       "        vertical-align: top;\n",
       "    }\n",
       "\n",
       "    .dataframe thead th {\n",
       "        text-align: right;\n",
       "    }\n",
       "</style>\n",
       "<table border=\"1\" class=\"dataframe\">\n",
       "  <thead>\n",
       "    <tr style=\"text-align: right;\">\n",
       "      <th></th>\n",
       "      <th>Price</th>\n",
       "      <th>day</th>\n",
       "      <th>month</th>\n",
       "      <th>year</th>\n",
       "    </tr>\n",
       "    <tr>\n",
       "      <th>Source</th>\n",
       "      <th></th>\n",
       "      <th></th>\n",
       "      <th></th>\n",
       "      <th></th>\n",
       "    </tr>\n",
       "  </thead>\n",
       "  <tbody>\n",
       "    <tr>\n",
       "      <th>Banglore</th>\n",
       "      <td>8017.464269</td>\n",
       "      <td>12.668639</td>\n",
       "      <td>4.149294</td>\n",
       "      <td>2019.0</td>\n",
       "    </tr>\n",
       "    <tr>\n",
       "      <th>Chennai</th>\n",
       "      <td>4789.892388</td>\n",
       "      <td>13.800525</td>\n",
       "      <td>4.742782</td>\n",
       "      <td>2019.0</td>\n",
       "    </tr>\n",
       "    <tr>\n",
       "      <th>Delhi</th>\n",
       "      <td>10540.113536</td>\n",
       "      <td>14.496914</td>\n",
       "      <td>4.897266</td>\n",
       "      <td>2019.0</td>\n",
       "    </tr>\n",
       "    <tr>\n",
       "      <th>Kolkata</th>\n",
       "      <td>9158.389411</td>\n",
       "      <td>12.662139</td>\n",
       "      <td>4.876001</td>\n",
       "      <td>2019.0</td>\n",
       "    </tr>\n",
       "    <tr>\n",
       "      <th>Mumbai</th>\n",
       "      <td>5059.708752</td>\n",
       "      <td>13.058824</td>\n",
       "      <td>4.535151</td>\n",
       "      <td>2019.0</td>\n",
       "    </tr>\n",
       "  </tbody>\n",
       "</table>\n",
       "</div>"
      ],
      "text/plain": [
       "                 Price        day     month    year\n",
       "Source                                             \n",
       "Banglore   8017.464269  12.668639  4.149294  2019.0\n",
       "Chennai    4789.892388  13.800525  4.742782  2019.0\n",
       "Delhi     10540.113536  14.496914  4.897266  2019.0\n",
       "Kolkata    9158.389411  12.662139  4.876001  2019.0\n",
       "Mumbai     5059.708752  13.058824  4.535151  2019.0"
      ]
     },
     "execution_count": 16,
     "metadata": {},
     "output_type": "execute_result"
    }
   ],
   "source": [
    "data.groupby('Source').mean()"
   ]
  },
  {
   "cell_type": "code",
   "execution_count": 17,
   "id": "4a413695",
   "metadata": {},
   "outputs": [
    {
     "name": "stdout",
     "output_type": "stream",
     "text": [
      "Columns in Destination\n",
      "most appeared values\n",
      "Index(['Cochin', 'Banglore', 'Delhi', 'New Delhi', 'Hyderabad'], dtype='object')\n",
      "Number of unique values is 6\n",
      "\n",
      " #### Random Values ####\n",
      "['Cochin' 'Banglore' 'Hyderabad' 'Banglore' 'Cochin']\n"
     ]
    }
   ],
   "source": [
    "get_insights('Destination')"
   ]
  },
  {
   "cell_type": "code",
   "execution_count": 18,
   "id": "11dd3f96",
   "metadata": {},
   "outputs": [
    {
     "data": {
      "text/html": [
       "<div>\n",
       "<style scoped>\n",
       "    .dataframe tbody tr th:only-of-type {\n",
       "        vertical-align: middle;\n",
       "    }\n",
       "\n",
       "    .dataframe tbody tr th {\n",
       "        vertical-align: top;\n",
       "    }\n",
       "\n",
       "    .dataframe thead th {\n",
       "        text-align: right;\n",
       "    }\n",
       "</style>\n",
       "<table border=\"1\" class=\"dataframe\">\n",
       "  <thead>\n",
       "    <tr style=\"text-align: right;\">\n",
       "      <th></th>\n",
       "      <th>Price</th>\n",
       "      <th>day</th>\n",
       "      <th>month</th>\n",
       "      <th>year</th>\n",
       "    </tr>\n",
       "    <tr>\n",
       "      <th>Destination</th>\n",
       "      <th></th>\n",
       "      <th></th>\n",
       "      <th></th>\n",
       "      <th></th>\n",
       "    </tr>\n",
       "  </thead>\n",
       "  <tbody>\n",
       "    <tr>\n",
       "      <th>Banglore</th>\n",
       "      <td>9158.389411</td>\n",
       "      <td>12.662139</td>\n",
       "      <td>4.876001</td>\n",
       "      <td>2019.0</td>\n",
       "    </tr>\n",
       "    <tr>\n",
       "      <th>Cochin</th>\n",
       "      <td>10540.113536</td>\n",
       "      <td>14.496914</td>\n",
       "      <td>4.897266</td>\n",
       "      <td>2019.0</td>\n",
       "    </tr>\n",
       "    <tr>\n",
       "      <th>Delhi</th>\n",
       "      <td>5143.918577</td>\n",
       "      <td>13.569960</td>\n",
       "      <td>4.996047</td>\n",
       "      <td>2019.0</td>\n",
       "    </tr>\n",
       "    <tr>\n",
       "      <th>Hyderabad</th>\n",
       "      <td>5059.708752</td>\n",
       "      <td>13.058824</td>\n",
       "      <td>4.535151</td>\n",
       "      <td>2019.0</td>\n",
       "    </tr>\n",
       "    <tr>\n",
       "      <th>Kolkata</th>\n",
       "      <td>4789.892388</td>\n",
       "      <td>13.800525</td>\n",
       "      <td>4.742782</td>\n",
       "      <td>2019.0</td>\n",
       "    </tr>\n",
       "    <tr>\n",
       "      <th>New Delhi</th>\n",
       "      <td>11917.716738</td>\n",
       "      <td>11.445279</td>\n",
       "      <td>3.000000</td>\n",
       "      <td>2019.0</td>\n",
       "    </tr>\n",
       "  </tbody>\n",
       "</table>\n",
       "</div>"
      ],
      "text/plain": [
       "                    Price        day     month    year\n",
       "Destination                                           \n",
       "Banglore      9158.389411  12.662139  4.876001  2019.0\n",
       "Cochin       10540.113536  14.496914  4.897266  2019.0\n",
       "Delhi         5143.918577  13.569960  4.996047  2019.0\n",
       "Hyderabad     5059.708752  13.058824  4.535151  2019.0\n",
       "Kolkata       4789.892388  13.800525  4.742782  2019.0\n",
       "New Delhi    11917.716738  11.445279  3.000000  2019.0"
      ]
     },
     "execution_count": 18,
     "metadata": {},
     "output_type": "execute_result"
    }
   ],
   "source": [
    "data.groupby('Destination').mean()"
   ]
  },
  {
   "cell_type": "code",
   "execution_count": 19,
   "id": "f15f19a4",
   "metadata": {},
   "outputs": [
    {
     "name": "stdout",
     "output_type": "stream",
     "text": [
      "Columns in Route\n",
      "most appeared values\n",
      "Index(['DEL → BOM → COK', 'BLR → DEL', 'CCU → BOM → BLR', 'CCU → BLR',\n",
      "       'BOM → HYD'],\n",
      "      dtype='object')\n",
      "Number of unique values is 128\n",
      "\n",
      " #### Random Values ####\n",
      "['BLR → DEL' 'DEL → BOM → COK' 'DEL → ATQ → BOM → COK' 'DEL → BOM → COK'\n",
      " 'BLR → DEL']\n"
     ]
    }
   ],
   "source": [
    "get_insights('Route')"
   ]
  },
  {
   "cell_type": "code",
   "execution_count": 20,
   "id": "6efba3f8",
   "metadata": {},
   "outputs": [
    {
     "data": {
      "text/plain": [
       "array(['BLR → DEL', 'CCU → IXR → BBI → BLR', 'DEL → LKO → BOM → COK',\n",
       "       'CCU → NAG → BLR', 'BLR → NAG → DEL', 'CCU → BLR',\n",
       "       'BLR → BOM → DEL', 'DEL → BOM → COK', 'DEL → BLR → COK',\n",
       "       'MAA → CCU', 'CCU → BOM → BLR', 'DEL → AMD → BOM → COK',\n",
       "       'DEL → PNQ → COK', 'DEL → CCU → BOM → COK', 'BLR → COK → DEL',\n",
       "       'DEL → IDR → BOM → COK', 'DEL → LKO → COK',\n",
       "       'CCU → GAU → DEL → BLR', 'DEL → NAG → BOM → COK',\n",
       "       'CCU → MAA → BLR', 'DEL → HYD → COK', 'CCU → HYD → BLR',\n",
       "       'DEL → COK', 'CCU → DEL → BLR', 'BLR → BOM → AMD → DEL',\n",
       "       'BOM → DEL → HYD', 'DEL → MAA → COK', 'BOM → HYD',\n",
       "       'DEL → BHO → BOM → COK', 'DEL → JAI → BOM → COK',\n",
       "       'DEL → ATQ → BOM → COK', 'DEL → JDH → BOM → COK',\n",
       "       'CCU → BBI → BOM → BLR', 'BLR → MAA → DEL',\n",
       "       'DEL → GOI → BOM → COK', 'DEL → BDQ → BOM → COK',\n",
       "       'CCU → JAI → BOM → BLR', 'CCU → BBI → BLR', 'BLR → HYD → DEL',\n",
       "       'DEL → TRV → COK', 'CCU → IXR → DEL → BLR',\n",
       "       'DEL → IXU → BOM → COK', 'CCU → IXB → BLR',\n",
       "       'BLR → BOM → JDH → DEL', 'DEL → UDR → BOM → COK',\n",
       "       'DEL → HYD → MAA → COK', 'CCU → BOM → COK → BLR',\n",
       "       'BLR → CCU → DEL', 'CCU → BOM → GOI → BLR',\n",
       "       'DEL → RPR → NAG → BOM → COK', 'DEL → HYD → BOM → COK',\n",
       "       'CCU → DEL → AMD → BLR', 'CCU → PNQ → BLR',\n",
       "       'BLR → CCU → GAU → DEL', 'CCU → DEL → COK → BLR',\n",
       "       'BLR → PNQ → DEL', 'BOM → JDH → DEL → HYD',\n",
       "       'BLR → BOM → BHO → DEL', 'DEL → AMD → COK', 'BLR → LKO → DEL',\n",
       "       'CCU → GAU → BLR', 'BOM → GOI → HYD', 'CCU → BOM → AMD → BLR',\n",
       "       'CCU → BBI → IXR → DEL → BLR', 'DEL → DED → BOM → COK',\n",
       "       'DEL → MAA → BOM → COK', 'BLR → AMD → DEL', 'BLR → VGA → DEL',\n",
       "       'CCU → JAI → DEL → BLR', 'CCU → AMD → BLR',\n",
       "       'CCU → VNS → DEL → BLR', 'BLR → BOM → IDR → DEL',\n",
       "       'BLR → BBI → DEL', 'BLR → GOI → DEL', 'BOM → AMD → ISK → HYD',\n",
       "       'BOM → DED → DEL → HYD', 'DEL → IXC → BOM → COK',\n",
       "       'CCU → PAT → BLR', 'BLR → CCU → BBI → DEL',\n",
       "       'CCU → BBI → HYD → BLR', 'BLR → BOM → NAG → DEL',\n",
       "       'BLR → CCU → BBI → HYD → DEL', 'BLR → GAU → DEL',\n",
       "       'BOM → BHO → DEL → HYD', 'BOM → JLR → HYD',\n",
       "       'BLR → HYD → VGA → DEL', 'CCU → KNU → BLR',\n",
       "       'CCU → BOM → PNQ → BLR', 'DEL → BBI → COK',\n",
       "       'BLR → VGA → HYD → DEL', 'BOM → JDH → JAI → DEL → HYD',\n",
       "       'DEL → GWL → IDR → BOM → COK', 'CCU → RPR → HYD → BLR',\n",
       "       'CCU → VTZ → BLR', 'CCU → DEL → VGA → BLR',\n",
       "       'BLR → BOM → IDR → GWL → DEL', 'CCU → DEL → COK → TRV → BLR',\n",
       "       'BOM → COK → MAA → HYD', 'BOM → NDC → HYD', 'BLR → BDQ → DEL',\n",
       "       'CCU → BOM → TRV → BLR', 'CCU → BOM → HBX → BLR',\n",
       "       'BOM → BDQ → DEL → HYD', 'BOM → CCU → HYD',\n",
       "       'BLR → TRV → COK → DEL', 'BLR → IDR → DEL',\n",
       "       'CCU → IXZ → MAA → BLR', 'CCU → GAU → IMF → DEL → BLR',\n",
       "       'BOM → GOI → PNQ → HYD', 'BOM → BLR → CCU → BBI → HYD',\n",
       "       'BOM → MAA → HYD', 'BLR → BOM → UDR → DEL',\n",
       "       'BOM → UDR → DEL → HYD', 'BLR → VGA → VTZ → DEL',\n",
       "       'BLR → HBX → BOM → BHO → DEL', 'CCU → IXA → BLR',\n",
       "       'BOM → RPR → VTZ → HYD', 'BLR → HBX → BOM → AMD → DEL',\n",
       "       'BOM → IDR → DEL → HYD', 'BOM → BLR → HYD', 'BLR → STV → DEL',\n",
       "       'CCU → IXB → DEL → BLR', 'BOM → JAI → DEL → HYD',\n",
       "       'BOM → VNS → DEL → HYD', 'BLR → HBX → BOM → NAG → DEL',\n",
       "       'BLR → BOM → IXC → DEL', 'BLR → CCU → BBI → HYD → VGA → DEL',\n",
       "       'BOM → BBI → HYD'], dtype=object)"
      ]
     },
     "execution_count": 20,
     "metadata": {},
     "output_type": "execute_result"
    }
   ],
   "source": [
    "data['Route'].unique()"
   ]
  },
  {
   "cell_type": "code",
   "execution_count": 21,
   "id": "3ea1cc65",
   "metadata": {},
   "outputs": [],
   "source": [
    "def route_len(route):\n",
    "    try:\n",
    "        route = len(route.split('→'))\n",
    "        return route\n",
    "    except:\n",
    "        print(route)\n",
    "        return 0"
   ]
  },
  {
   "cell_type": "code",
   "execution_count": 22,
   "id": "f3c517a3",
   "metadata": {},
   "outputs": [],
   "source": [
    "# data['route_len'] = data['Route'].apply(route_len)"
   ]
  },
  {
   "cell_type": "code",
   "execution_count": 23,
   "id": "14d15d08",
   "metadata": {},
   "outputs": [
    {
     "data": {
      "text/html": [
       "<div>\n",
       "<style scoped>\n",
       "    .dataframe tbody tr th:only-of-type {\n",
       "        vertical-align: middle;\n",
       "    }\n",
       "\n",
       "    .dataframe tbody tr th {\n",
       "        vertical-align: top;\n",
       "    }\n",
       "\n",
       "    .dataframe thead th {\n",
       "        text-align: right;\n",
       "    }\n",
       "</style>\n",
       "<table border=\"1\" class=\"dataframe\">\n",
       "  <thead>\n",
       "    <tr style=\"text-align: right;\">\n",
       "      <th></th>\n",
       "      <th>Airline</th>\n",
       "      <th>Source</th>\n",
       "      <th>Destination</th>\n",
       "      <th>Route</th>\n",
       "      <th>Dep_Time</th>\n",
       "      <th>Arrival_Time</th>\n",
       "      <th>Duration</th>\n",
       "      <th>Total_Stops</th>\n",
       "      <th>Additional_Info</th>\n",
       "      <th>Price</th>\n",
       "      <th>day</th>\n",
       "      <th>month</th>\n",
       "      <th>year</th>\n",
       "    </tr>\n",
       "  </thead>\n",
       "  <tbody>\n",
       "    <tr>\n",
       "      <th>0</th>\n",
       "      <td>IndiGo</td>\n",
       "      <td>Banglore</td>\n",
       "      <td>New Delhi</td>\n",
       "      <td>BLR → DEL</td>\n",
       "      <td>22:20</td>\n",
       "      <td>01:10 22 Mar</td>\n",
       "      <td>2h 50m</td>\n",
       "      <td>non-stop</td>\n",
       "      <td>No info</td>\n",
       "      <td>3897</td>\n",
       "      <td>24</td>\n",
       "      <td>3</td>\n",
       "      <td>2019</td>\n",
       "    </tr>\n",
       "    <tr>\n",
       "      <th>1</th>\n",
       "      <td>Air India</td>\n",
       "      <td>Kolkata</td>\n",
       "      <td>Banglore</td>\n",
       "      <td>CCU → IXR → BBI → BLR</td>\n",
       "      <td>05:50</td>\n",
       "      <td>13:15</td>\n",
       "      <td>7h 25m</td>\n",
       "      <td>2 stops</td>\n",
       "      <td>No info</td>\n",
       "      <td>7662</td>\n",
       "      <td>1</td>\n",
       "      <td>5</td>\n",
       "      <td>2019</td>\n",
       "    </tr>\n",
       "    <tr>\n",
       "      <th>2</th>\n",
       "      <td>Jet Airways</td>\n",
       "      <td>Delhi</td>\n",
       "      <td>Cochin</td>\n",
       "      <td>DEL → LKO → BOM → COK</td>\n",
       "      <td>09:25</td>\n",
       "      <td>04:25 10 Jun</td>\n",
       "      <td>19h</td>\n",
       "      <td>2 stops</td>\n",
       "      <td>No info</td>\n",
       "      <td>13882</td>\n",
       "      <td>9</td>\n",
       "      <td>6</td>\n",
       "      <td>2019</td>\n",
       "    </tr>\n",
       "    <tr>\n",
       "      <th>3</th>\n",
       "      <td>IndiGo</td>\n",
       "      <td>Kolkata</td>\n",
       "      <td>Banglore</td>\n",
       "      <td>CCU → NAG → BLR</td>\n",
       "      <td>18:05</td>\n",
       "      <td>23:30</td>\n",
       "      <td>5h 25m</td>\n",
       "      <td>1 stop</td>\n",
       "      <td>No info</td>\n",
       "      <td>6218</td>\n",
       "      <td>12</td>\n",
       "      <td>5</td>\n",
       "      <td>2019</td>\n",
       "    </tr>\n",
       "    <tr>\n",
       "      <th>4</th>\n",
       "      <td>IndiGo</td>\n",
       "      <td>Banglore</td>\n",
       "      <td>New Delhi</td>\n",
       "      <td>BLR → NAG → DEL</td>\n",
       "      <td>16:50</td>\n",
       "      <td>21:35</td>\n",
       "      <td>4h 45m</td>\n",
       "      <td>1 stop</td>\n",
       "      <td>No info</td>\n",
       "      <td>13302</td>\n",
       "      <td>1</td>\n",
       "      <td>3</td>\n",
       "      <td>2019</td>\n",
       "    </tr>\n",
       "  </tbody>\n",
       "</table>\n",
       "</div>"
      ],
      "text/plain": [
       "       Airline    Source Destination                  Route Dep_Time  \\\n",
       "0       IndiGo  Banglore   New Delhi              BLR → DEL    22:20   \n",
       "1    Air India   Kolkata    Banglore  CCU → IXR → BBI → BLR    05:50   \n",
       "2  Jet Airways     Delhi      Cochin  DEL → LKO → BOM → COK    09:25   \n",
       "3       IndiGo   Kolkata    Banglore        CCU → NAG → BLR    18:05   \n",
       "4       IndiGo  Banglore   New Delhi        BLR → NAG → DEL    16:50   \n",
       "\n",
       "   Arrival_Time Duration Total_Stops Additional_Info  Price  day  month  year  \n",
       "0  01:10 22 Mar   2h 50m    non-stop         No info   3897   24      3  2019  \n",
       "1         13:15   7h 25m     2 stops         No info   7662    1      5  2019  \n",
       "2  04:25 10 Jun      19h     2 stops         No info  13882    9      6  2019  \n",
       "3         23:30   5h 25m      1 stop         No info   6218   12      5  2019  \n",
       "4         21:35   4h 45m      1 stop         No info  13302    1      3  2019  "
      ]
     },
     "execution_count": 23,
     "metadata": {},
     "output_type": "execute_result"
    }
   ],
   "source": [
    "data.head()"
   ]
  },
  {
   "cell_type": "code",
   "execution_count": 24,
   "id": "7f38f146",
   "metadata": {},
   "outputs": [],
   "source": [
    "data = data.drop(['Dep_Time','Arrival_Time','Route'],axis=1)"
   ]
  },
  {
   "cell_type": "code",
   "execution_count": 25,
   "id": "d8af2604",
   "metadata": {},
   "outputs": [
    {
     "name": "stdout",
     "output_type": "stream",
     "text": [
      "Columns in Duration\n",
      "most appeared values\n",
      "Index(['2h 50m', '1h 30m', '2h 45m', '2h 55m', '2h 35m'], dtype='object')\n",
      "Number of unique values is 368\n",
      "\n",
      " #### Random Values ####\n",
      "['25h 45m' '3h' '22h 55m' '2h 40m' '2h 25m']\n"
     ]
    }
   ],
   "source": [
    "get_insights('Duration')"
   ]
  },
  {
   "cell_type": "code",
   "execution_count": 26,
   "id": "59d7b823",
   "metadata": {},
   "outputs": [],
   "source": [
    "def convert_time_minute(time):\n",
    "    if \"m\" in time:\n",
    "        time = time.replace('m',\"\")\n",
    "        if \"h\" not in time:\n",
    "            hours = 0\n",
    "            mintues = time.split(\" \")[0]\n",
    "        else:\n",
    "            time = time.replace('h',\"\")\n",
    "            hours = time.split(\" \")[0]\n",
    "            mintues = time.split(\" \")[1]\n",
    "        total = int(hours) * 60 + int(mintues)\n",
    "    else:\n",
    "        time = time.replace('h',\"\")\n",
    "        total = int(time) * 60\n",
    "\n",
    "    \n",
    "    \n",
    "    return total"
   ]
  },
  {
   "cell_type": "code",
   "execution_count": 27,
   "id": "4945f207",
   "metadata": {},
   "outputs": [],
   "source": [
    "data['Duration'] = data['Duration'].apply(convert_time_minute)"
   ]
  },
  {
   "cell_type": "code",
   "execution_count": 28,
   "id": "5e887617",
   "metadata": {},
   "outputs": [
    {
     "data": {
      "text/html": [
       "<div>\n",
       "<style scoped>\n",
       "    .dataframe tbody tr th:only-of-type {\n",
       "        vertical-align: middle;\n",
       "    }\n",
       "\n",
       "    .dataframe tbody tr th {\n",
       "        vertical-align: top;\n",
       "    }\n",
       "\n",
       "    .dataframe thead th {\n",
       "        text-align: right;\n",
       "    }\n",
       "</style>\n",
       "<table border=\"1\" class=\"dataframe\">\n",
       "  <thead>\n",
       "    <tr style=\"text-align: right;\">\n",
       "      <th></th>\n",
       "      <th>Airline</th>\n",
       "      <th>Source</th>\n",
       "      <th>Destination</th>\n",
       "      <th>Duration</th>\n",
       "      <th>Total_Stops</th>\n",
       "      <th>Additional_Info</th>\n",
       "      <th>Price</th>\n",
       "      <th>day</th>\n",
       "      <th>month</th>\n",
       "      <th>year</th>\n",
       "    </tr>\n",
       "  </thead>\n",
       "  <tbody>\n",
       "    <tr>\n",
       "      <th>0</th>\n",
       "      <td>IndiGo</td>\n",
       "      <td>Banglore</td>\n",
       "      <td>New Delhi</td>\n",
       "      <td>170</td>\n",
       "      <td>non-stop</td>\n",
       "      <td>No info</td>\n",
       "      <td>3897</td>\n",
       "      <td>24</td>\n",
       "      <td>3</td>\n",
       "      <td>2019</td>\n",
       "    </tr>\n",
       "    <tr>\n",
       "      <th>1</th>\n",
       "      <td>Air India</td>\n",
       "      <td>Kolkata</td>\n",
       "      <td>Banglore</td>\n",
       "      <td>445</td>\n",
       "      <td>2 stops</td>\n",
       "      <td>No info</td>\n",
       "      <td>7662</td>\n",
       "      <td>1</td>\n",
       "      <td>5</td>\n",
       "      <td>2019</td>\n",
       "    </tr>\n",
       "    <tr>\n",
       "      <th>2</th>\n",
       "      <td>Jet Airways</td>\n",
       "      <td>Delhi</td>\n",
       "      <td>Cochin</td>\n",
       "      <td>1140</td>\n",
       "      <td>2 stops</td>\n",
       "      <td>No info</td>\n",
       "      <td>13882</td>\n",
       "      <td>9</td>\n",
       "      <td>6</td>\n",
       "      <td>2019</td>\n",
       "    </tr>\n",
       "    <tr>\n",
       "      <th>3</th>\n",
       "      <td>IndiGo</td>\n",
       "      <td>Kolkata</td>\n",
       "      <td>Banglore</td>\n",
       "      <td>325</td>\n",
       "      <td>1 stop</td>\n",
       "      <td>No info</td>\n",
       "      <td>6218</td>\n",
       "      <td>12</td>\n",
       "      <td>5</td>\n",
       "      <td>2019</td>\n",
       "    </tr>\n",
       "    <tr>\n",
       "      <th>4</th>\n",
       "      <td>IndiGo</td>\n",
       "      <td>Banglore</td>\n",
       "      <td>New Delhi</td>\n",
       "      <td>285</td>\n",
       "      <td>1 stop</td>\n",
       "      <td>No info</td>\n",
       "      <td>13302</td>\n",
       "      <td>1</td>\n",
       "      <td>3</td>\n",
       "      <td>2019</td>\n",
       "    </tr>\n",
       "  </tbody>\n",
       "</table>\n",
       "</div>"
      ],
      "text/plain": [
       "       Airline    Source Destination  Duration Total_Stops Additional_Info  \\\n",
       "0       IndiGo  Banglore   New Delhi       170    non-stop         No info   \n",
       "1    Air India   Kolkata    Banglore       445     2 stops         No info   \n",
       "2  Jet Airways     Delhi      Cochin      1140     2 stops         No info   \n",
       "3       IndiGo   Kolkata    Banglore       325      1 stop         No info   \n",
       "4       IndiGo  Banglore   New Delhi       285      1 stop         No info   \n",
       "\n",
       "   Price  day  month  year  \n",
       "0   3897   24      3  2019  \n",
       "1   7662    1      5  2019  \n",
       "2  13882    9      6  2019  \n",
       "3   6218   12      5  2019  \n",
       "4  13302    1      3  2019  "
      ]
     },
     "execution_count": 28,
     "metadata": {},
     "output_type": "execute_result"
    }
   ],
   "source": [
    "data.head()"
   ]
  },
  {
   "cell_type": "code",
   "execution_count": 29,
   "id": "22b0c647",
   "metadata": {},
   "outputs": [
    {
     "name": "stdout",
     "output_type": "stream",
     "text": [
      "Columns in Total_Stops\n",
      "most appeared values\n",
      "Index(['1 stop', 'non-stop', '2 stops', '3 stops', '4 stops'], dtype='object')\n",
      "Number of unique values is 5\n",
      "\n",
      " #### Random Values ####\n",
      "['1 stop' '2 stops' '1 stop' '1 stop' '1 stop']\n"
     ]
    }
   ],
   "source": [
    "get_insights('Total_Stops')"
   ]
  },
  {
   "cell_type": "code",
   "execution_count": 30,
   "id": "876cdd1f",
   "metadata": {},
   "outputs": [],
   "source": [
    "def convert_stops_int(stops):\n",
    "    if \"1\" in stops:\n",
    "        return  1\n",
    "    elif \"2\" in stops:\n",
    "        return 2\n",
    "    elif \"3\" in stops:\n",
    "        return 3\n",
    "    elif \"4\" in stops:\n",
    "        return 4\n",
    "    else:\n",
    "        return 0"
   ]
  },
  {
   "cell_type": "code",
   "execution_count": 31,
   "id": "9e6b8a1a",
   "metadata": {},
   "outputs": [],
   "source": [
    "data['Total_Stops'] = data['Total_Stops'].apply(convert_stops_int)"
   ]
  },
  {
   "cell_type": "code",
   "execution_count": 32,
   "id": "6239c55f",
   "metadata": {},
   "outputs": [
    {
     "data": {
      "text/html": [
       "<div>\n",
       "<style scoped>\n",
       "    .dataframe tbody tr th:only-of-type {\n",
       "        vertical-align: middle;\n",
       "    }\n",
       "\n",
       "    .dataframe tbody tr th {\n",
       "        vertical-align: top;\n",
       "    }\n",
       "\n",
       "    .dataframe thead th {\n",
       "        text-align: right;\n",
       "    }\n",
       "</style>\n",
       "<table border=\"1\" class=\"dataframe\">\n",
       "  <thead>\n",
       "    <tr style=\"text-align: right;\">\n",
       "      <th></th>\n",
       "      <th>Airline</th>\n",
       "      <th>Source</th>\n",
       "      <th>Destination</th>\n",
       "      <th>Duration</th>\n",
       "      <th>Total_Stops</th>\n",
       "      <th>Additional_Info</th>\n",
       "      <th>Price</th>\n",
       "      <th>day</th>\n",
       "      <th>month</th>\n",
       "      <th>year</th>\n",
       "    </tr>\n",
       "  </thead>\n",
       "  <tbody>\n",
       "    <tr>\n",
       "      <th>0</th>\n",
       "      <td>IndiGo</td>\n",
       "      <td>Banglore</td>\n",
       "      <td>New Delhi</td>\n",
       "      <td>170</td>\n",
       "      <td>0</td>\n",
       "      <td>No info</td>\n",
       "      <td>3897</td>\n",
       "      <td>24</td>\n",
       "      <td>3</td>\n",
       "      <td>2019</td>\n",
       "    </tr>\n",
       "    <tr>\n",
       "      <th>1</th>\n",
       "      <td>Air India</td>\n",
       "      <td>Kolkata</td>\n",
       "      <td>Banglore</td>\n",
       "      <td>445</td>\n",
       "      <td>2</td>\n",
       "      <td>No info</td>\n",
       "      <td>7662</td>\n",
       "      <td>1</td>\n",
       "      <td>5</td>\n",
       "      <td>2019</td>\n",
       "    </tr>\n",
       "    <tr>\n",
       "      <th>2</th>\n",
       "      <td>Jet Airways</td>\n",
       "      <td>Delhi</td>\n",
       "      <td>Cochin</td>\n",
       "      <td>1140</td>\n",
       "      <td>2</td>\n",
       "      <td>No info</td>\n",
       "      <td>13882</td>\n",
       "      <td>9</td>\n",
       "      <td>6</td>\n",
       "      <td>2019</td>\n",
       "    </tr>\n",
       "    <tr>\n",
       "      <th>3</th>\n",
       "      <td>IndiGo</td>\n",
       "      <td>Kolkata</td>\n",
       "      <td>Banglore</td>\n",
       "      <td>325</td>\n",
       "      <td>1</td>\n",
       "      <td>No info</td>\n",
       "      <td>6218</td>\n",
       "      <td>12</td>\n",
       "      <td>5</td>\n",
       "      <td>2019</td>\n",
       "    </tr>\n",
       "    <tr>\n",
       "      <th>4</th>\n",
       "      <td>IndiGo</td>\n",
       "      <td>Banglore</td>\n",
       "      <td>New Delhi</td>\n",
       "      <td>285</td>\n",
       "      <td>1</td>\n",
       "      <td>No info</td>\n",
       "      <td>13302</td>\n",
       "      <td>1</td>\n",
       "      <td>3</td>\n",
       "      <td>2019</td>\n",
       "    </tr>\n",
       "  </tbody>\n",
       "</table>\n",
       "</div>"
      ],
      "text/plain": [
       "       Airline    Source Destination  Duration  Total_Stops Additional_Info  \\\n",
       "0       IndiGo  Banglore   New Delhi       170            0         No info   \n",
       "1    Air India   Kolkata    Banglore       445            2         No info   \n",
       "2  Jet Airways     Delhi      Cochin      1140            2         No info   \n",
       "3       IndiGo   Kolkata    Banglore       325            1         No info   \n",
       "4       IndiGo  Banglore   New Delhi       285            1         No info   \n",
       "\n",
       "   Price  day  month  year  \n",
       "0   3897   24      3  2019  \n",
       "1   7662    1      5  2019  \n",
       "2  13882    9      6  2019  \n",
       "3   6218   12      5  2019  \n",
       "4  13302    1      3  2019  "
      ]
     },
     "execution_count": 32,
     "metadata": {},
     "output_type": "execute_result"
    }
   ],
   "source": [
    "data.head()"
   ]
  },
  {
   "cell_type": "code",
   "execution_count": 33,
   "id": "c4729066",
   "metadata": {},
   "outputs": [
    {
     "name": "stdout",
     "output_type": "stream",
     "text": [
      "Columns in Additional_Info\n",
      "most appeared values\n",
      "Index(['No info', 'In-flight meal not included',\n",
      "       'No check-in baggage included', '1 Long layover', 'Change airports'],\n",
      "      dtype='object')\n",
      "Number of unique values is 10\n",
      "\n",
      " #### Random Values ####\n",
      "['No info' 'In-flight meal not included' 'No info' 'No info' 'No info']\n"
     ]
    }
   ],
   "source": [
    "get_insights('Additional_Info')"
   ]
  },
  {
   "cell_type": "code",
   "execution_count": 34,
   "id": "ca2e659e",
   "metadata": {},
   "outputs": [
    {
     "data": {
      "text/plain": [
       "No info                         8344\n",
       "In-flight meal not included     1982\n",
       "No check-in baggage included     320\n",
       "1 Long layover                    19\n",
       "Change airports                    7\n",
       "Business class                     4\n",
       "No Info                            3\n",
       "1 Short layover                    1\n",
       "Red-eye flight                     1\n",
       "2 Long layover                     1\n",
       "Name: Additional_Info, dtype: int64"
      ]
     },
     "execution_count": 34,
     "metadata": {},
     "output_type": "execute_result"
    }
   ],
   "source": [
    "data['Additional_Info'].value_counts()"
   ]
  },
  {
   "cell_type": "code",
   "execution_count": 35,
   "id": "1aedce70",
   "metadata": {},
   "outputs": [
    {
     "data": {
      "text/plain": [
       "Additional_Info\n",
       "1 Long layover                  22109.631579\n",
       "1 Short layover                 26743.000000\n",
       "2 Long layover                  26480.000000\n",
       "Business class                  56811.250000\n",
       "Change airports                 16800.714286\n",
       "In-flight meal not included      9471.834511\n",
       "No Info                          8044.666667\n",
       "No check-in baggage included     3645.156250\n",
       "No info                          9141.519295\n",
       "Red-eye flight                  10873.000000\n",
       "Name: Price, dtype: float64"
      ]
     },
     "execution_count": 35,
     "metadata": {},
     "output_type": "execute_result"
    }
   ],
   "source": [
    "data.groupby('Additional_Info').mean()['Price']"
   ]
  },
  {
   "cell_type": "code",
   "execution_count": 36,
   "id": "e987256b",
   "metadata": {},
   "outputs": [
    {
     "data": {
      "text/plain": [
       "dtype('O')"
      ]
     },
     "execution_count": 36,
     "metadata": {},
     "output_type": "execute_result"
    }
   ],
   "source": [
    "data['Additional_Info'].dtype"
   ]
  },
  {
   "cell_type": "code",
   "execution_count": 37,
   "id": "12cca61a",
   "metadata": {},
   "outputs": [
    {
     "data": {
      "text/plain": [
       "['Airline', 'Source', 'Destination', 'Additional_Info']"
      ]
     },
     "execution_count": 37,
     "metadata": {},
     "output_type": "execute_result"
    }
   ],
   "source": [
    "categorical = [col for col in data.columns if data[col].dtype == \"O\"]\n",
    "categorical"
   ]
  },
  {
   "cell_type": "code",
   "execution_count": 195,
   "id": "544a31df",
   "metadata": {},
   "outputs": [
    {
     "name": "stdout",
     "output_type": "stream",
     "text": [
      "Airline has : 12\n",
      "Source has : 5\n",
      "Destination has : 6\n",
      "Additional_Info has : 10\n"
     ]
    }
   ],
   "source": [
    "for col in categorical:\n",
    "    print(col + \" has : \" + str(data[col].nunique()))"
   ]
  },
  {
   "cell_type": "code",
   "execution_count": 39,
   "id": "cd648f84",
   "metadata": {},
   "outputs": [
    {
     "data": {
      "text/plain": [
       "(10682, 10)"
      ]
     },
     "execution_count": 39,
     "metadata": {},
     "output_type": "execute_result"
    }
   ],
   "source": [
    "data.shape"
   ]
  },
  {
   "cell_type": "code",
   "execution_count": 40,
   "id": "5fbf86b5",
   "metadata": {},
   "outputs": [],
   "source": [
    "def encode_data(encoder,col):\n",
    "    encoded_data = encoder.fit_transform(data[col])\n",
    "    return encoded_data"
   ]
  },
  {
   "cell_type": "code",
   "execution_count": 41,
   "id": "6417c799",
   "metadata": {},
   "outputs": [],
   "source": [
    "airline_encoder,source_encoder,destination_encoder,info_encoder = LabelEncoder(),LabelEncoder(),LabelEncoder(),LabelEncoder()"
   ]
  },
  {
   "cell_type": "code",
   "execution_count": 42,
   "id": "232ed0ee",
   "metadata": {},
   "outputs": [],
   "source": [
    "data['Airline']= encode_data(airline_encoder,'Airline')\n",
    "data['Source']= encode_data(source_encoder,'Source')\n",
    "data['Destination']= encode_data(destination_encoder,'Destination')\n",
    "data['Additional_Info']= encode_data(info_encoder,'Additional_Info')"
   ]
  },
  {
   "cell_type": "code",
   "execution_count": 43,
   "id": "fe8b0754",
   "metadata": {},
   "outputs": [
    {
     "data": {
      "text/html": [
       "<div>\n",
       "<style scoped>\n",
       "    .dataframe tbody tr th:only-of-type {\n",
       "        vertical-align: middle;\n",
       "    }\n",
       "\n",
       "    .dataframe tbody tr th {\n",
       "        vertical-align: top;\n",
       "    }\n",
       "\n",
       "    .dataframe thead th {\n",
       "        text-align: right;\n",
       "    }\n",
       "</style>\n",
       "<table border=\"1\" class=\"dataframe\">\n",
       "  <thead>\n",
       "    <tr style=\"text-align: right;\">\n",
       "      <th></th>\n",
       "      <th>Airline</th>\n",
       "      <th>Source</th>\n",
       "      <th>Destination</th>\n",
       "      <th>Duration</th>\n",
       "      <th>Total_Stops</th>\n",
       "      <th>Additional_Info</th>\n",
       "      <th>Price</th>\n",
       "      <th>day</th>\n",
       "      <th>month</th>\n",
       "      <th>year</th>\n",
       "    </tr>\n",
       "  </thead>\n",
       "  <tbody>\n",
       "    <tr>\n",
       "      <th>0</th>\n",
       "      <td>3</td>\n",
       "      <td>0</td>\n",
       "      <td>5</td>\n",
       "      <td>170</td>\n",
       "      <td>0</td>\n",
       "      <td>8</td>\n",
       "      <td>3897</td>\n",
       "      <td>24</td>\n",
       "      <td>3</td>\n",
       "      <td>2019</td>\n",
       "    </tr>\n",
       "    <tr>\n",
       "      <th>1</th>\n",
       "      <td>1</td>\n",
       "      <td>3</td>\n",
       "      <td>0</td>\n",
       "      <td>445</td>\n",
       "      <td>2</td>\n",
       "      <td>8</td>\n",
       "      <td>7662</td>\n",
       "      <td>1</td>\n",
       "      <td>5</td>\n",
       "      <td>2019</td>\n",
       "    </tr>\n",
       "    <tr>\n",
       "      <th>2</th>\n",
       "      <td>4</td>\n",
       "      <td>2</td>\n",
       "      <td>1</td>\n",
       "      <td>1140</td>\n",
       "      <td>2</td>\n",
       "      <td>8</td>\n",
       "      <td>13882</td>\n",
       "      <td>9</td>\n",
       "      <td>6</td>\n",
       "      <td>2019</td>\n",
       "    </tr>\n",
       "    <tr>\n",
       "      <th>3</th>\n",
       "      <td>3</td>\n",
       "      <td>3</td>\n",
       "      <td>0</td>\n",
       "      <td>325</td>\n",
       "      <td>1</td>\n",
       "      <td>8</td>\n",
       "      <td>6218</td>\n",
       "      <td>12</td>\n",
       "      <td>5</td>\n",
       "      <td>2019</td>\n",
       "    </tr>\n",
       "    <tr>\n",
       "      <th>4</th>\n",
       "      <td>3</td>\n",
       "      <td>0</td>\n",
       "      <td>5</td>\n",
       "      <td>285</td>\n",
       "      <td>1</td>\n",
       "      <td>8</td>\n",
       "      <td>13302</td>\n",
       "      <td>1</td>\n",
       "      <td>3</td>\n",
       "      <td>2019</td>\n",
       "    </tr>\n",
       "  </tbody>\n",
       "</table>\n",
       "</div>"
      ],
      "text/plain": [
       "   Airline  Source  Destination  Duration  Total_Stops  Additional_Info  \\\n",
       "0        3       0            5       170            0                8   \n",
       "1        1       3            0       445            2                8   \n",
       "2        4       2            1      1140            2                8   \n",
       "3        3       3            0       325            1                8   \n",
       "4        3       0            5       285            1                8   \n",
       "\n",
       "   Price  day  month  year  \n",
       "0   3897   24      3  2019  \n",
       "1   7662    1      5  2019  \n",
       "2  13882    9      6  2019  \n",
       "3   6218   12      5  2019  \n",
       "4  13302    1      3  2019  "
      ]
     },
     "execution_count": 43,
     "metadata": {},
     "output_type": "execute_result"
    }
   ],
   "source": [
    "data.head()"
   ]
  },
  {
   "cell_type": "code",
   "execution_count": 44,
   "id": "6bb08f81",
   "metadata": {},
   "outputs": [
    {
     "name": "stdout",
     "output_type": "stream",
     "text": [
      "<class 'pandas.core.frame.DataFrame'>\n",
      "Int64Index: 10682 entries, 0 to 10682\n",
      "Data columns (total 10 columns):\n",
      " #   Column           Non-Null Count  Dtype\n",
      "---  ------           --------------  -----\n",
      " 0   Airline          10682 non-null  int32\n",
      " 1   Source           10682 non-null  int32\n",
      " 2   Destination      10682 non-null  int32\n",
      " 3   Duration         10682 non-null  int64\n",
      " 4   Total_Stops      10682 non-null  int64\n",
      " 5   Additional_Info  10682 non-null  int32\n",
      " 6   Price            10682 non-null  int64\n",
      " 7   day              10682 non-null  int64\n",
      " 8   month            10682 non-null  int64\n",
      " 9   year             10682 non-null  int64\n",
      "dtypes: int32(4), int64(6)\n",
      "memory usage: 751.1 KB\n"
     ]
    }
   ],
   "source": [
    "data.info()"
   ]
  },
  {
   "cell_type": "code",
   "execution_count": 45,
   "id": "b985c528",
   "metadata": {},
   "outputs": [],
   "source": [
    "X = data.drop('Price',axis=1).values\n",
    "Y = data['Price'].values"
   ]
  },
  {
   "cell_type": "code",
   "execution_count": null,
   "id": "074b2006",
   "metadata": {},
   "outputs": [],
   "source": []
  },
  {
   "cell_type": "code",
   "execution_count": 171,
   "id": "de7ff832",
   "metadata": {},
   "outputs": [],
   "source": [
    "class LinearRegression():\n",
    "    \n",
    "    def __init__(self,lr,iterations):\n",
    "        \n",
    "        self.lr = lr\n",
    "        self.iterations = iterations\n",
    "    \n",
    "    def fit(self,X,Y):\n",
    "        n_samples , n_features = X.shape\n",
    "        \n",
    "        self.weights = np.random.randn(n_features)\n",
    "        self.bais = 0\n",
    "        \n",
    "        for i in range(self.iterations):\n",
    "            y_pred = np.dot(X,self.weights) + self.bais\n",
    "\n",
    "            error = y_pred - Y\n",
    "\n",
    "            dW = (1 / n_samples) * np.dot(X.T,error)\n",
    "            db = (1 / n_samples) * np.sum(error)\n",
    "\n",
    "            self.weights = self.weights - self.lr * dW\n",
    "            self.bais = self.bais - self.lr * db\n",
    "            \n",
    "    def predict(self,X):\n",
    "        \n",
    "        net = np.dot(X,self.weights) + self.bais\n",
    "        \n",
    "        return net"
   ]
  },
  {
   "cell_type": "code",
   "execution_count": 190,
   "id": "2e398c82",
   "metadata": {},
   "outputs": [],
   "source": [
    "lr = LinearRegression(.001,2)\n",
    "lr.fit(X,Y)"
   ]
  },
  {
   "cell_type": "code",
   "execution_count": 191,
   "id": "c424a978",
   "metadata": {},
   "outputs": [
    {
     "data": {
      "text/plain": [
       "-2761972559263291.5"
      ]
     },
     "execution_count": 191,
     "metadata": {},
     "output_type": "execute_result"
    }
   ],
   "source": [
    "lr.predict(X)[0]"
   ]
  },
  {
   "cell_type": "code",
   "execution_count": 179,
   "id": "511c626b",
   "metadata": {},
   "outputs": [
    {
     "data": {
      "text/plain": [
       "3897"
      ]
     },
     "execution_count": 179,
     "metadata": {},
     "output_type": "execute_result"
    }
   ],
   "source": [
    "Y[0]"
   ]
  },
  {
   "cell_type": "code",
   "execution_count": null,
   "id": "316c62c9",
   "metadata": {},
   "outputs": [],
   "source": []
  }
 ],
 "metadata": {
  "kernelspec": {
   "display_name": "Python 3 (ipykernel)",
   "language": "python",
   "name": "python3"
  },
  "language_info": {
   "codemirror_mode": {
    "name": "ipython",
    "version": 3
   },
   "file_extension": ".py",
   "mimetype": "text/x-python",
   "name": "python",
   "nbconvert_exporter": "python",
   "pygments_lexer": "ipython3",
   "version": "3.9.13"
  }
 },
 "nbformat": 4,
 "nbformat_minor": 5
}
